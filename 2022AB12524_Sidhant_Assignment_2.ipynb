{
 "cells": [
  {
   "cell_type": "code",
   "execution_count": 74,
   "id": "310f3688-6af8-43a0-b2ef-91937fe669c9",
   "metadata": {},
   "outputs": [
    {
     "name": "stdout",
     "output_type": "stream",
     "text": [
      "Requirement already satisfied: pandas in /usr/local/Cellar/jupyterlab/4.0.12/libexec/lib/python3.12/site-packages (2.2.0)\n",
      "Requirement already satisfied: pyarrow in /usr/local/Cellar/jupyterlab/4.0.12/libexec/lib/python3.12/site-packages (15.0.0)\n",
      "Requirement already satisfied: numpy in /usr/local/Cellar/jupyterlab/4.0.12/libexec/lib/python3.12/site-packages (1.26.3)\n",
      "Requirement already satisfied: scipy in /usr/local/Cellar/jupyterlab/4.0.12/libexec/lib/python3.12/site-packages (1.12.0)\n",
      "Requirement already satisfied: python-dateutil>=2.8.2 in /usr/local/opt/python-dateutil/lib/python3.12/site-packages (from pandas) (2.8.2)\n",
      "Requirement already satisfied: pytz>=2020.1 in /usr/local/Cellar/jupyterlab/4.0.12/libexec/lib/python3.12/site-packages (from pandas) (2024.1)\n",
      "Requirement already satisfied: tzdata>=2022.7 in /usr/local/Cellar/jupyterlab/4.0.12/libexec/lib/python3.12/site-packages (from pandas) (2023.4)\n",
      "Requirement already satisfied: six>=1.5 in /usr/local/opt/six/lib/python3.12/site-packages (from python-dateutil>=2.8.2->pandas) (1.16.0)\n",
      "\n",
      "\u001b[1m[\u001b[0m\u001b[34;49mnotice\u001b[0m\u001b[1;39;49m]\u001b[0m\u001b[39;49m A new release of pip is available: \u001b[0m\u001b[31;49m23.3.1\u001b[0m\u001b[39;49m -> \u001b[0m\u001b[32;49m23.3.2\u001b[0m\n",
      "\u001b[1m[\u001b[0m\u001b[34;49mnotice\u001b[0m\u001b[1;39;49m]\u001b[0m\u001b[39;49m To update, run: \u001b[0m\u001b[32;49m/usr/local/Cellar/jupyterlab/4.0.12/libexec/bin/python -m pip install --upgrade pip\u001b[0m\n"
     ]
    }
   ],
   "source": [
    "# Importing Libaries\n",
    "import sys\n",
    "!{sys.executable} -m pip install pandas pyarrow numpy scipy\n",
    "import pandas as pd\n",
    "import numpy as np\n",
    "from scipy import stats"
   ]
  },
  {
   "cell_type": "markdown",
   "id": "eae5a60f-d8f9-4db0-af2a-2dc8270742aa",
   "metadata": {},
   "source": [
    "LE 1.1.1 Calculate the cube root of last 2 digits of your BITSID and paste the details and\n",
    "screenshot of the result.\n",
    "\n",
    "#BITS ID = 2022AB12524"
   ]
  },
  {
   "cell_type": "code",
   "execution_count": 75,
   "id": "992fae9b-7cc2-47a1-86f9-5cce48ae26f9",
   "metadata": {},
   "outputs": [
    {
     "name": "stdout",
     "output_type": "stream",
     "text": [
      "The cube root is 2.88\n"
     ]
    }
   ],
   "source": [
    "number = 24\n",
    "cube_root = round(number ** (1/3),2)\n",
    "print(f\"The cube root is {cube_root}\")"
   ]
  },
  {
   "cell_type": "markdown",
   "id": "32a5a828-ff39-4e6e-8028-f8746bdb3e64",
   "metadata": {},
   "source": [
    "LE 1.1.2 Execute the command help() and explore about list & tuple data type and paste the\n",
    "screen shot."
   ]
  },
  {
   "cell_type": "code",
   "execution_count": 76,
   "id": "3a1f141d-b80c-4900-9e5f-05a9cafcfc87",
   "metadata": {},
   "outputs": [
    {
     "name": "stdout",
     "output_type": "stream",
     "text": [
      "Help on class list in module builtins:\n",
      "\n",
      "class list(object)\n",
      " |  list(iterable=(), /)\n",
      " |\n",
      " |  Built-in mutable sequence.\n",
      " |\n",
      " |  If no argument is given, the constructor creates a new empty list.\n",
      " |  The argument must be an iterable if specified.\n",
      " |\n",
      " |  Methods defined here:\n",
      " |\n",
      " |  __add__(self, value, /)\n",
      " |      Return self+value.\n",
      " |\n",
      " |  __contains__(self, key, /)\n",
      " |      Return bool(key in self).\n",
      " |\n",
      " |  __delitem__(self, key, /)\n",
      " |      Delete self[key].\n",
      " |\n",
      " |  __eq__(self, value, /)\n",
      " |      Return self==value.\n",
      " |\n",
      " |  __ge__(self, value, /)\n",
      " |      Return self>=value.\n",
      " |\n",
      " |  __getattribute__(self, name, /)\n",
      " |      Return getattr(self, name).\n",
      " |\n",
      " |  __getitem__(self, index, /)\n",
      " |      Return self[index].\n",
      " |\n",
      " |  __gt__(self, value, /)\n",
      " |      Return self>value.\n",
      " |\n",
      " |  __iadd__(self, value, /)\n",
      " |      Implement self+=value.\n",
      " |\n",
      " |  __imul__(self, value, /)\n",
      " |      Implement self*=value.\n",
      " |\n",
      " |  __init__(self, /, *args, **kwargs)\n",
      " |      Initialize self.  See help(type(self)) for accurate signature.\n",
      " |\n",
      " |  __iter__(self, /)\n",
      " |      Implement iter(self).\n",
      " |\n",
      " |  __le__(self, value, /)\n",
      " |      Return self<=value.\n",
      " |\n",
      " |  __len__(self, /)\n",
      " |      Return len(self).\n",
      " |\n",
      " |  __lt__(self, value, /)\n",
      " |      Return self<value.\n",
      " |\n",
      " |  __mul__(self, value, /)\n",
      " |      Return self*value.\n",
      " |\n",
      " |  __ne__(self, value, /)\n",
      " |      Return self!=value.\n",
      " |\n",
      " |  __repr__(self, /)\n",
      " |      Return repr(self).\n",
      " |\n",
      " |  __reversed__(self, /)\n",
      " |      Return a reverse iterator over the list.\n",
      " |\n",
      " |  __rmul__(self, value, /)\n",
      " |      Return value*self.\n",
      " |\n",
      " |  __setitem__(self, key, value, /)\n",
      " |      Set self[key] to value.\n",
      " |\n",
      " |  __sizeof__(self, /)\n",
      " |      Return the size of the list in memory, in bytes.\n",
      " |\n",
      " |  append(self, object, /)\n",
      " |      Append object to the end of the list.\n",
      " |\n",
      " |  clear(self, /)\n",
      " |      Remove all items from list.\n",
      " |\n",
      " |  copy(self, /)\n",
      " |      Return a shallow copy of the list.\n",
      " |\n",
      " |  count(self, value, /)\n",
      " |      Return number of occurrences of value.\n",
      " |\n",
      " |  extend(self, iterable, /)\n",
      " |      Extend list by appending elements from the iterable.\n",
      " |\n",
      " |  index(self, value, start=0, stop=9223372036854775807, /)\n",
      " |      Return first index of value.\n",
      " |\n",
      " |      Raises ValueError if the value is not present.\n",
      " |\n",
      " |  insert(self, index, object, /)\n",
      " |      Insert object before index.\n",
      " |\n",
      " |  pop(self, index=-1, /)\n",
      " |      Remove and return item at index (default last).\n",
      " |\n",
      " |      Raises IndexError if list is empty or index is out of range.\n",
      " |\n",
      " |  remove(self, value, /)\n",
      " |      Remove first occurrence of value.\n",
      " |\n",
      " |      Raises ValueError if the value is not present.\n",
      " |\n",
      " |  reverse(self, /)\n",
      " |      Reverse *IN PLACE*.\n",
      " |\n",
      " |  sort(self, /, *, key=None, reverse=False)\n",
      " |      Sort the list in ascending order and return None.\n",
      " |\n",
      " |      The sort is in-place (i.e. the list itself is modified) and stable (i.e. the\n",
      " |      order of two equal elements is maintained).\n",
      " |\n",
      " |      If a key function is given, apply it once to each list item and sort them,\n",
      " |      ascending or descending, according to their function values.\n",
      " |\n",
      " |      The reverse flag can be set to sort in descending order.\n",
      " |\n",
      " |  ----------------------------------------------------------------------\n",
      " |  Class methods defined here:\n",
      " |\n",
      " |  __class_getitem__(...) from builtins.type\n",
      " |      See PEP 585\n",
      " |\n",
      " |  ----------------------------------------------------------------------\n",
      " |  Static methods defined here:\n",
      " |\n",
      " |  __new__(*args, **kwargs) from builtins.type\n",
      " |      Create and return a new object.  See help(type) for accurate signature.\n",
      " |\n",
      " |  ----------------------------------------------------------------------\n",
      " |  Data and other attributes defined here:\n",
      " |\n",
      " |  __hash__ = None\n",
      "\n"
     ]
    }
   ],
   "source": [
    "help(list)"
   ]
  },
  {
   "cell_type": "code",
   "execution_count": 77,
   "id": "d56016b3-80a0-4e88-8766-731212c76d39",
   "metadata": {},
   "outputs": [
    {
     "name": "stdout",
     "output_type": "stream",
     "text": [
      "Help on class tuple in module builtins:\n",
      "\n",
      "class tuple(object)\n",
      " |  tuple(iterable=(), /)\n",
      " |\n",
      " |  Built-in immutable sequence.\n",
      " |\n",
      " |  If no argument is given, the constructor returns an empty tuple.\n",
      " |  If iterable is specified the tuple is initialized from iterable's items.\n",
      " |\n",
      " |  If the argument is a tuple, the return value is the same object.\n",
      " |\n",
      " |  Built-in subclasses:\n",
      " |      asyncgen_hooks\n",
      " |      UnraisableHookArgs\n",
      " |\n",
      " |  Methods defined here:\n",
      " |\n",
      " |  __add__(self, value, /)\n",
      " |      Return self+value.\n",
      " |\n",
      " |  __contains__(self, key, /)\n",
      " |      Return bool(key in self).\n",
      " |\n",
      " |  __eq__(self, value, /)\n",
      " |      Return self==value.\n",
      " |\n",
      " |  __ge__(self, value, /)\n",
      " |      Return self>=value.\n",
      " |\n",
      " |  __getattribute__(self, name, /)\n",
      " |      Return getattr(self, name).\n",
      " |\n",
      " |  __getitem__(self, key, /)\n",
      " |      Return self[key].\n",
      " |\n",
      " |  __getnewargs__(self, /)\n",
      " |\n",
      " |  __gt__(self, value, /)\n",
      " |      Return self>value.\n",
      " |\n",
      " |  __hash__(self, /)\n",
      " |      Return hash(self).\n",
      " |\n",
      " |  __iter__(self, /)\n",
      " |      Implement iter(self).\n",
      " |\n",
      " |  __le__(self, value, /)\n",
      " |      Return self<=value.\n",
      " |\n",
      " |  __len__(self, /)\n",
      " |      Return len(self).\n",
      " |\n",
      " |  __lt__(self, value, /)\n",
      " |      Return self<value.\n",
      " |\n",
      " |  __mul__(self, value, /)\n",
      " |      Return self*value.\n",
      " |\n",
      " |  __ne__(self, value, /)\n",
      " |      Return self!=value.\n",
      " |\n",
      " |  __repr__(self, /)\n",
      " |      Return repr(self).\n",
      " |\n",
      " |  __rmul__(self, value, /)\n",
      " |      Return value*self.\n",
      " |\n",
      " |  count(self, value, /)\n",
      " |      Return number of occurrences of value.\n",
      " |\n",
      " |  index(self, value, start=0, stop=9223372036854775807, /)\n",
      " |      Return first index of value.\n",
      " |\n",
      " |      Raises ValueError if the value is not present.\n",
      " |\n",
      " |  ----------------------------------------------------------------------\n",
      " |  Class methods defined here:\n",
      " |\n",
      " |  __class_getitem__(...) from builtins.type\n",
      " |      See PEP 585\n",
      " |\n",
      " |  ----------------------------------------------------------------------\n",
      " |  Static methods defined here:\n",
      " |\n",
      " |  __new__(*args, **kwargs) from builtins.type\n",
      " |      Create and return a new object.  See help(type) for accurate signature.\n",
      "\n"
     ]
    }
   ],
   "source": [
    "help(tuple)"
   ]
  },
  {
   "cell_type": "markdown",
   "id": "9e52bf85-617a-45c2-b82b-495332d85637",
   "metadata": {},
   "source": [
    "LE 2.1.1 Explore what all operations you can perform with Strings, Lists, Tuples and Dictionary and\n",
    "paste a screen of the console output?"
   ]
  },
  {
   "cell_type": "code",
   "execution_count": 78,
   "id": "4226df69-7ade-4d03-b3f8-39aa32a538af",
   "metadata": {},
   "outputs": [
    {
     "name": "stdout",
     "output_type": "stream",
     "text": [
      "1\n",
      "[3, 'data_mining']\n",
      "[1, 2, 3, 'data_mining', 'ooad', 'software_architecture', 'cloud_computing', 'machine_learning']\n",
      "[1, 2, 3, 'data_mining', 'ooad', 'machine_learning']\n",
      "software_architecture\n"
     ]
    }
   ],
   "source": [
    "# List Operations\n",
    "first_list = [1, 2, 3, \"data_mining\", \"ooad\"]\n",
    "# Indexing & Slicing\n",
    "print(first_list[0])\n",
    "print(first_list[2:4])\n",
    "\n",
    "# Appending & Extending\n",
    "first_list.append(\"software_architecture\")\n",
    "first_list.extend([\"cloud_computing\", \"machine_learning\"])\n",
    "print(first_list)\n",
    "\n",
    "# Removing elements\n",
    "first_list.remove(\"cloud_computing\")\n",
    "popped_item = first_list.pop(5)\n",
    "print(first_list)\n",
    "print(popped_item)"
   ]
  },
  {
   "cell_type": "code",
   "execution_count": 79,
   "id": "a2dfb3a3-6e52-4c13-85e4-4e1ce86d89be",
   "metadata": {},
   "outputs": [
    {
     "name": "stdout",
     "output_type": "stream",
     "text": [
      "1\n",
      "(3, 'data_mining')\n"
     ]
    }
   ],
   "source": [
    "# Tuple Operations\n",
    "first_tuple = (1, 2, 3, \"data_mining\", \"ooad\")\n",
    "# Indexing & Slicing\n",
    "print(first_tuple[0])\n",
    "print(first_tuple[2:4])\n",
    "# Immutable\n"
   ]
  },
  {
   "cell_type": "code",
   "execution_count": 80,
   "id": "e9c09b61-f32e-4689-a38a-a7791aa986ce",
   "metadata": {},
   "outputs": [
    {
     "name": "stdout",
     "output_type": "stream",
     "text": [
      "Sidhant\n",
      "{'name': 'Sidhant', 'bits_id': 24, 'course': 'Software Engineering', 'occupation': 'Engineer', 'age': 26}\n",
      "{'name': 'Sidhant', 'bits_id': 24, 'occupation': 'Engineer', 'age': 26}\n"
     ]
    }
   ],
   "source": [
    "# Dictionary Operations\n",
    "first_dict = {'name': 'Sidhant', 'bits_id': 24, 'course': 'Software Engineering'}\n",
    "\n",
    "# Read Values\n",
    "print(first_dict['name'])\n",
    "\n",
    "# Adding & Modifying\n",
    "first_dict['occupation'] = 'Engineer'\n",
    "first_dict['age'] = 26\n",
    "\n",
    "print(first_dict)\n",
    "\n",
    "# Remove items\n",
    "del first_dict['course']\n",
    "print(first_dict)"
   ]
  },
  {
   "cell_type": "markdown",
   "id": "d63fea08-dbf1-4944-a350-cd1649c3f65e",
   "metadata": {},
   "source": [
    "LE 3.1.1 Load the IRIS dataset and prepare vector from “sepal_length” data from the dataset and\n",
    "calculate mean, median, mode, variance, five-point summary. Paste the screen shots of each\n",
    "step?"
   ]
  },
  {
   "cell_type": "code",
   "execution_count": 81,
   "id": "440142a0-dae8-488a-8e88-4339129021bb",
   "metadata": {},
   "outputs": [
    {
     "name": "stdout",
     "output_type": "stream",
     "text": [
      "Mean: 5.843333333333334\n",
      "Median: 5.8\n",
      "Mode: ModeResult(mode=5.0, count=10)\n",
      "Variance: 0.6811222222222223\n",
      "Five-Point Summary:\n",
      "Min: 4.3\n",
      "25th Percentile (Q1): 5.1\n",
      "Median (Q2): 5.8\n",
      "75th Percentile (Q3): 6.4\n",
      "Max: 7.9\n"
     ]
    }
   ],
   "source": [
    "data_file = 'iris.csv'\n",
    "df = pd.read_csv(data_file)\n",
    "\n",
    "# Create a vector for sepal length\n",
    "sepal_length_vector = df['sepal_length']\n",
    "\n",
    "# Calculate Mean\n",
    "sepal_length_mean = np.mean(sepal_length_vector)\n",
    "# Calculate Median\n",
    "sepal_length_median= np.median(sepal_length_vector)\n",
    "# Calculate Mode\n",
    "sepal_length_mode = stats.mode(sepal_length_vector)\n",
    "# Calculate Variance\n",
    "sepal_length_variance = np.var(sepal_length_vector)\n",
    "# Calculate five-point summary\n",
    "five_point_summary = {\n",
    "    'Min': np.min(sepal_length_vector),\n",
    "    '25th Percentile (Q1)': np.percentile(sepal_length_vector, 25),\n",
    "    'Median (Q2)': np.percentile(sepal_length_vector, 50),\n",
    "    '75th Percentile (Q3)': np.percentile(sepal_length_vector, 75),\n",
    "    'Max': np.max(sepal_length_vector)\n",
    "}\n",
    "\n",
    "# Display results\n",
    "print(f\"Mean: {sepal_length_mean}\")\n",
    "print(f\"Median: {sepal_length_median}\")\n",
    "print(f\"Mode: {sepal_length_mode}\")\n",
    "print(f\"Variance: {sepal_length_variance}\")\n",
    "print(\"Five-Point Summary:\")\n",
    "for key, value in five_point_summary.items():\n",
    "    print(f\"{key}: {value}\")\n"
   ]
  },
  {
   "cell_type": "markdown",
   "id": "36e326d2-0d27-414e-a895-cfa78fa3f4cd",
   "metadata": {},
   "source": [
    "LE 5.4.1 Load the PIMA Dataset and perform following tasks and paste the screen shot for every\n",
    "task. Download the PIMA dataset from the Dataset Link."
   ]
  },
  {
   "cell_type": "markdown",
   "id": "aef0fc87-686c-47dc-812c-8c8a8c3a0ca8",
   "metadata": {},
   "source": [
    "LE 5.4.2 Load the PIMA data and print the same and paste the screen shot for task"
   ]
  },
  {
   "cell_type": "code",
   "execution_count": 82,
   "id": "1b922ef6-5a7b-4185-8241-170185086ae7",
   "metadata": {},
   "outputs": [
    {
     "name": "stdout",
     "output_type": "stream",
     "text": [
      "     1. Number of times pregnant  \\\n",
      "0                              6   \n",
      "1                              1   \n",
      "2                              8   \n",
      "3                              1   \n",
      "4                              0   \n",
      "..                           ...   \n",
      "763                           10   \n",
      "764                            2   \n",
      "765                            5   \n",
      "766                            1   \n",
      "767                            1   \n",
      "\n",
      "     2. Plasma glucose concentration a 2 hours in an oral glucose tolerance test  \\\n",
      "0                                                  148                             \n",
      "1                                                   85                             \n",
      "2                                                  183                             \n",
      "3                                                   89                             \n",
      "4                                                  137                             \n",
      "..                                                 ...                             \n",
      "763                                                101                             \n",
      "764                                                122                             \n",
      "765                                                121                             \n",
      "766                                                126                             \n",
      "767                                                 93                             \n",
      "\n",
      "     3. Diastolic blood pressure (mm Hg)  4. Triceps skin fold thickness (mm)  \\\n",
      "0                                     72                                   35   \n",
      "1                                     66                                   29   \n",
      "2                                     64                                    0   \n",
      "3                                     66                                   23   \n",
      "4                                     40                                   35   \n",
      "..                                   ...                                  ...   \n",
      "763                                   76                                   48   \n",
      "764                                   70                                   27   \n",
      "765                                   72                                   23   \n",
      "766                                   60                                    0   \n",
      "767                                   70                                   31   \n",
      "\n",
      "     5. 2-Hour serum insulin (mu U/ml)  \\\n",
      "0                                    0   \n",
      "1                                    0   \n",
      "2                                    0   \n",
      "3                                   94   \n",
      "4                                  168   \n",
      "..                                 ...   \n",
      "763                                180   \n",
      "764                                  0   \n",
      "765                                112   \n",
      "766                                  0   \n",
      "767                                  0   \n",
      "\n",
      "     6. Body mass index (weight in kg/(height in m)^2)  \\\n",
      "0                                                 33.6   \n",
      "1                                                 26.6   \n",
      "2                                                 23.3   \n",
      "3                                                 28.1   \n",
      "4                                                 43.1   \n",
      "..                                                 ...   \n",
      "763                                               32.9   \n",
      "764                                               36.8   \n",
      "765                                               26.2   \n",
      "766                                               30.1   \n",
      "767                                               30.4   \n",
      "\n",
      "     7. Diabetes pedigree function  8. Age (years)  9. Class variable (0 or 1)  \n",
      "0                            0.627              50                           1  \n",
      "1                            0.351              31                           0  \n",
      "2                            0.672              32                           1  \n",
      "3                            0.167              21                           0  \n",
      "4                            2.288              33                           1  \n",
      "..                             ...             ...                         ...  \n",
      "763                          0.171              63                           0  \n",
      "764                          0.340              27                           0  \n",
      "765                          0.245              30                           0  \n",
      "766                          0.349              47                           1  \n",
      "767                          0.315              23                           0  \n",
      "\n",
      "[768 rows x 9 columns]\n"
     ]
    }
   ],
   "source": [
    "pima = 'pima-indians-diabetes.csv'\n",
    "pima_df = pd.read_csv(pima)\n",
    "print(pima_df)"
   ]
  },
  {
   "cell_type": "code",
   "execution_count": 83,
   "id": "fe68a9ab-3b46-4df1-95cb-46281eb283f4",
   "metadata": {},
   "outputs": [
    {
     "name": "stdout",
     "output_type": "stream",
     "text": [
      "Index(['1. Number of times pregnant',\n",
      "       '2. Plasma glucose concentration a 2 hours in an oral glucose tolerance test',\n",
      "       '3. Diastolic blood pressure (mm Hg)',\n",
      "       '4. Triceps skin fold thickness (mm)',\n",
      "       '5. 2-Hour serum insulin (mu U/ml)',\n",
      "       '6. Body mass index (weight in kg/(height in m)^2)',\n",
      "       '7. Diabetes pedigree function', '8. Age (years)',\n",
      "       '9. Class variable (0 or 1)'],\n",
      "      dtype='object')\n"
     ]
    }
   ],
   "source": [
    "# Headers\n",
    "headers = pima_df.columns\n",
    "print(headers)"
   ]
  },
  {
   "cell_type": "code",
   "execution_count": 84,
   "id": "be2a33af-4e78-4e7f-923c-ffccda512837",
   "metadata": {},
   "outputs": [
    {
     "name": "stdout",
     "output_type": "stream",
     "text": [
      "# Rows 768\n",
      "# Columns 9\n"
     ]
    }
   ],
   "source": [
    "# Print dimensions of dataset\n",
    "num_rows, num_columns = pima_df.shape\n",
    "print(\"# Rows\", num_rows)\n",
    "print(\"# Columns\", num_columns)"
   ]
  },
  {
   "cell_type": "code",
   "execution_count": 85,
   "id": "9ff82707-39a0-4bff-90ce-71f4b1f7ba63",
   "metadata": {},
   "outputs": [
    {
     "name": "stdout",
     "output_type": "stream",
     "text": [
      "<class 'pandas.core.frame.DataFrame'>\n",
      "RangeIndex: 768 entries, 0 to 767\n",
      "Data columns (total 9 columns):\n",
      " #   Column                                                                       Non-Null Count  Dtype  \n",
      "---  ------                                                                       --------------  -----  \n",
      " 0   1. Number of times pregnant                                                  768 non-null    int64  \n",
      " 1   2. Plasma glucose concentration a 2 hours in an oral glucose tolerance test  768 non-null    int64  \n",
      " 2   3. Diastolic blood pressure (mm Hg)                                          768 non-null    int64  \n",
      " 3   4. Triceps skin fold thickness (mm)                                          768 non-null    int64  \n",
      " 4   5. 2-Hour serum insulin (mu U/ml)                                            768 non-null    int64  \n",
      " 5   6. Body mass index (weight in kg/(height in m)^2)                            768 non-null    float64\n",
      " 6   7. Diabetes pedigree function                                                768 non-null    float64\n",
      " 7   8. Age (years)                                                               768 non-null    int64  \n",
      " 8   9. Class variable (0 or 1)                                                   768 non-null    int64  \n",
      "dtypes: float64(2), int64(7)\n",
      "memory usage: 54.1 KB\n",
      "None\n"
     ]
    }
   ],
   "source": [
    "# Variable Structure\n",
    "variable_structure = pima_df.info()\n",
    "print(variable_structure)"
   ]
  },
  {
   "cell_type": "code",
   "execution_count": 86,
   "id": "b4f2f24b-45a9-4131-a0f2-eacfb45e9e53",
   "metadata": {},
   "outputs": [
    {
     "name": "stdout",
     "output_type": "stream",
     "text": [
      "       1. Number of times pregnant  \\\n",
      "count                   768.000000   \n",
      "mean                      3.845052   \n",
      "std                       3.369578   \n",
      "min                       0.000000   \n",
      "25%                       1.000000   \n",
      "50%                       3.000000   \n",
      "75%                       6.000000   \n",
      "max                      17.000000   \n",
      "\n",
      "       2. Plasma glucose concentration a 2 hours in an oral glucose tolerance test  \\\n",
      "count                                         768.000000                             \n",
      "mean                                          120.894531                             \n",
      "std                                            31.972618                             \n",
      "min                                             0.000000                             \n",
      "25%                                            99.000000                             \n",
      "50%                                           117.000000                             \n",
      "75%                                           140.250000                             \n",
      "max                                           199.000000                             \n",
      "\n",
      "       3. Diastolic blood pressure (mm Hg)  \\\n",
      "count                           768.000000   \n",
      "mean                             69.105469   \n",
      "std                              19.355807   \n",
      "min                               0.000000   \n",
      "25%                              62.000000   \n",
      "50%                              72.000000   \n",
      "75%                              80.000000   \n",
      "max                             122.000000   \n",
      "\n",
      "       4. Triceps skin fold thickness (mm)  5. 2-Hour serum insulin (mu U/ml)  \\\n",
      "count                           768.000000                         768.000000   \n",
      "mean                             20.536458                          79.799479   \n",
      "std                              15.952218                         115.244002   \n",
      "min                               0.000000                           0.000000   \n",
      "25%                               0.000000                           0.000000   \n",
      "50%                              23.000000                          30.500000   \n",
      "75%                              32.000000                         127.250000   \n",
      "max                              99.000000                         846.000000   \n",
      "\n",
      "       6. Body mass index (weight in kg/(height in m)^2)  \\\n",
      "count                                         768.000000   \n",
      "mean                                           31.992578   \n",
      "std                                             7.884160   \n",
      "min                                             0.000000   \n",
      "25%                                            27.300000   \n",
      "50%                                            32.000000   \n",
      "75%                                            36.600000   \n",
      "max                                            67.100000   \n",
      "\n",
      "       7. Diabetes pedigree function  8. Age (years)  \\\n",
      "count                     768.000000      768.000000   \n",
      "mean                        0.471876       33.240885   \n",
      "std                         0.331329       11.760232   \n",
      "min                         0.078000       21.000000   \n",
      "25%                         0.243750       24.000000   \n",
      "50%                         0.372500       29.000000   \n",
      "75%                         0.626250       41.000000   \n",
      "max                         2.420000       81.000000   \n",
      "\n",
      "       9. Class variable (0 or 1)  \n",
      "count                  768.000000  \n",
      "mean                     0.348958  \n",
      "std                      0.476951  \n",
      "min                      0.000000  \n",
      "25%                      0.000000  \n",
      "50%                      0.000000  \n",
      "75%                      1.000000  \n",
      "max                      1.000000  \n"
     ]
    }
   ],
   "source": [
    "# Statistics Summary of the dataset\n",
    "summary_statistics = pima_df.describe()\n",
    "print(summary_statistics)"
   ]
  },
  {
   "cell_type": "markdown",
   "id": "38bdd764-850b-4572-b516-34263430dc20",
   "metadata": {},
   "source": [
    "LE 5.4.5 Find out the min and max of the each variable. You will find some weird records with Zero\n",
    "(0) blood pressure or glucose or insulin. There is requirement of data cleansing with following\n",
    "steps and paste the screen shot for task"
   ]
  },
  {
   "cell_type": "code",
   "execution_count": 87,
   "id": "d343ede1-0775-436d-9704-8317665333a0",
   "metadata": {},
   "outputs": [
    {
     "name": "stdout",
     "output_type": "stream",
     "text": [
      "     1. Number of times pregnant  \\\n",
      "min                            0   \n",
      "max                           17   \n",
      "\n",
      "     2. Plasma glucose concentration a 2 hours in an oral glucose tolerance test  \\\n",
      "min                                                  0                             \n",
      "max                                                199                             \n",
      "\n",
      "     3. Diastolic blood pressure (mm Hg)  4. Triceps skin fold thickness (mm)  \\\n",
      "min                                    0                                    0   \n",
      "max                                  122                                   99   \n",
      "\n",
      "     5. 2-Hour serum insulin (mu U/ml)  \\\n",
      "min                                  0   \n",
      "max                                846   \n",
      "\n",
      "     6. Body mass index (weight in kg/(height in m)^2)  \\\n",
      "min                                                0.0   \n",
      "max                                               67.1   \n",
      "\n",
      "     7. Diabetes pedigree function  8. Age (years)  9. Class variable (0 or 1)  \n",
      "min                          0.078              21                           0  \n",
      "max                          2.420              81                           1  \n"
     ]
    }
   ],
   "source": [
    "# min and max of the each variable\n",
    "min_max_values = pima_df.agg(['min', 'max'])\n",
    "print(min_max_values)"
   ]
  },
  {
   "cell_type": "code",
   "execution_count": 91,
   "id": "ee7d2e07-60ae-4d90-b306-0a49fee4d9d4",
   "metadata": {},
   "outputs": [
    {
     "name": "stdout",
     "output_type": "stream",
     "text": [
      "Number of Rows with Zero Values for Each Variable:\n",
      "1. Number of times pregnant                                                    111\n",
      "2. Plasma glucose concentration a 2 hours in an oral glucose tolerance test      5\n",
      "3. Diastolic blood pressure (mm Hg)                                             35\n",
      "4. Triceps skin fold thickness (mm)                                            227\n",
      "5. 2-Hour serum insulin (mu U/ml)                                              374\n",
      "6. Body mass index (weight in kg/(height in m)^2)                               11\n",
      "7. Diabetes pedigree function                                                    0\n",
      "8. Age (years)                                                                   0\n",
      "9. Class variable (0 or 1)                                                     500\n",
      "dtype: int64\n",
      "0      0.2\n",
      "1      0.2\n",
      "2      0.2\n",
      "3      0.2\n",
      "4      0.2\n",
      "      ... \n",
      "145    2.3\n",
      "146    1.9\n",
      "147    2.0\n",
      "148    2.3\n",
      "149    1.8\n",
      "Name: petal_width, Length: 150, dtype: float64\n"
     ]
    },
    {
     "ename": "KeyError",
     "evalue": "\"None of [Index([1.4, 1.4, 1.3, 1.5, 1.4, 1.7, 1.4, 1.5, 1.4, 1.5,\\n       ...\\n       5.6, 5.1, 5.1, 5.9, 5.7, 5.2, 5.0, 5.2, 5.4, 5.1],\\n      dtype='float64', length=150)] are in the [columns]\"",
     "output_type": "error",
     "traceback": [
      "\u001b[0;31m---------------------------------------------------------------------------\u001b[0m",
      "\u001b[0;31mKeyError\u001b[0m                                  Traceback (most recent call last)",
      "Cell \u001b[0;32mIn[91], line 11\u001b[0m\n\u001b[1;32m      9\u001b[0m columns_to_replace \u001b[38;5;241m=\u001b[39m [df\u001b[38;5;241m.\u001b[39miloc[:, \u001b[38;5;241m2\u001b[39m], df\u001b[38;5;241m.\u001b[39miloc[:, \u001b[38;5;241m3\u001b[39m], df\u001b[38;5;241m.\u001b[39miloc[:, \u001b[38;5;241m4\u001b[39m]]\n\u001b[1;32m     10\u001b[0m \u001b[38;5;28;01mfor\u001b[39;00m column \u001b[38;5;129;01min\u001b[39;00m columns_to_replace:\n\u001b[0;32m---> 11\u001b[0m     median_value \u001b[38;5;241m=\u001b[39m \u001b[43mpima_df\u001b[49m\u001b[43m[\u001b[49m\u001b[43mcolumn\u001b[49m\u001b[43m]\u001b[49m\u001b[38;5;241m.\u001b[39mmedian()\n\u001b[1;32m     12\u001b[0m     pima_df[column] \u001b[38;5;241m=\u001b[39m pima_df[column]\u001b[38;5;241m.\u001b[39mreplace(\u001b[38;5;241m0\u001b[39m, median_value)\n",
      "File \u001b[0;32m/usr/local/Cellar/jupyterlab/4.0.12/libexec/lib/python3.12/site-packages/pandas/core/frame.py:4096\u001b[0m, in \u001b[0;36mDataFrame.__getitem__\u001b[0;34m(self, key)\u001b[0m\n\u001b[1;32m   4094\u001b[0m     \u001b[38;5;28;01mif\u001b[39;00m is_iterator(key):\n\u001b[1;32m   4095\u001b[0m         key \u001b[38;5;241m=\u001b[39m \u001b[38;5;28mlist\u001b[39m(key)\n\u001b[0;32m-> 4096\u001b[0m     indexer \u001b[38;5;241m=\u001b[39m \u001b[38;5;28;43mself\u001b[39;49m\u001b[38;5;241;43m.\u001b[39;49m\u001b[43mcolumns\u001b[49m\u001b[38;5;241;43m.\u001b[39;49m\u001b[43m_get_indexer_strict\u001b[49m\u001b[43m(\u001b[49m\u001b[43mkey\u001b[49m\u001b[43m,\u001b[49m\u001b[43m \u001b[49m\u001b[38;5;124;43m\"\u001b[39;49m\u001b[38;5;124;43mcolumns\u001b[39;49m\u001b[38;5;124;43m\"\u001b[39;49m\u001b[43m)\u001b[49m[\u001b[38;5;241m1\u001b[39m]\n\u001b[1;32m   4098\u001b[0m \u001b[38;5;66;03m# take() does not accept boolean indexers\u001b[39;00m\n\u001b[1;32m   4099\u001b[0m \u001b[38;5;28;01mif\u001b[39;00m \u001b[38;5;28mgetattr\u001b[39m(indexer, \u001b[38;5;124m\"\u001b[39m\u001b[38;5;124mdtype\u001b[39m\u001b[38;5;124m\"\u001b[39m, \u001b[38;5;28;01mNone\u001b[39;00m) \u001b[38;5;241m==\u001b[39m \u001b[38;5;28mbool\u001b[39m:\n",
      "File \u001b[0;32m/usr/local/Cellar/jupyterlab/4.0.12/libexec/lib/python3.12/site-packages/pandas/core/indexes/base.py:6199\u001b[0m, in \u001b[0;36mIndex._get_indexer_strict\u001b[0;34m(self, key, axis_name)\u001b[0m\n\u001b[1;32m   6196\u001b[0m \u001b[38;5;28;01melse\u001b[39;00m:\n\u001b[1;32m   6197\u001b[0m     keyarr, indexer, new_indexer \u001b[38;5;241m=\u001b[39m \u001b[38;5;28mself\u001b[39m\u001b[38;5;241m.\u001b[39m_reindex_non_unique(keyarr)\n\u001b[0;32m-> 6199\u001b[0m \u001b[38;5;28;43mself\u001b[39;49m\u001b[38;5;241;43m.\u001b[39;49m\u001b[43m_raise_if_missing\u001b[49m\u001b[43m(\u001b[49m\u001b[43mkeyarr\u001b[49m\u001b[43m,\u001b[49m\u001b[43m \u001b[49m\u001b[43mindexer\u001b[49m\u001b[43m,\u001b[49m\u001b[43m \u001b[49m\u001b[43maxis_name\u001b[49m\u001b[43m)\u001b[49m\n\u001b[1;32m   6201\u001b[0m keyarr \u001b[38;5;241m=\u001b[39m \u001b[38;5;28mself\u001b[39m\u001b[38;5;241m.\u001b[39mtake(indexer)\n\u001b[1;32m   6202\u001b[0m \u001b[38;5;28;01mif\u001b[39;00m \u001b[38;5;28misinstance\u001b[39m(key, Index):\n\u001b[1;32m   6203\u001b[0m     \u001b[38;5;66;03m# GH 42790 - Preserve name from an Index\u001b[39;00m\n",
      "File \u001b[0;32m/usr/local/Cellar/jupyterlab/4.0.12/libexec/lib/python3.12/site-packages/pandas/core/indexes/base.py:6248\u001b[0m, in \u001b[0;36mIndex._raise_if_missing\u001b[0;34m(self, key, indexer, axis_name)\u001b[0m\n\u001b[1;32m   6246\u001b[0m \u001b[38;5;28;01mif\u001b[39;00m nmissing:\n\u001b[1;32m   6247\u001b[0m     \u001b[38;5;28;01mif\u001b[39;00m nmissing \u001b[38;5;241m==\u001b[39m \u001b[38;5;28mlen\u001b[39m(indexer):\n\u001b[0;32m-> 6248\u001b[0m         \u001b[38;5;28;01mraise\u001b[39;00m \u001b[38;5;167;01mKeyError\u001b[39;00m(\u001b[38;5;124mf\u001b[39m\u001b[38;5;124m\"\u001b[39m\u001b[38;5;124mNone of [\u001b[39m\u001b[38;5;132;01m{\u001b[39;00mkey\u001b[38;5;132;01m}\u001b[39;00m\u001b[38;5;124m] are in the [\u001b[39m\u001b[38;5;132;01m{\u001b[39;00maxis_name\u001b[38;5;132;01m}\u001b[39;00m\u001b[38;5;124m]\u001b[39m\u001b[38;5;124m\"\u001b[39m)\n\u001b[1;32m   6250\u001b[0m     not_found \u001b[38;5;241m=\u001b[39m \u001b[38;5;28mlist\u001b[39m(ensure_index(key)[missing_mask\u001b[38;5;241m.\u001b[39mnonzero()[\u001b[38;5;241m0\u001b[39m]]\u001b[38;5;241m.\u001b[39munique())\n\u001b[1;32m   6251\u001b[0m     \u001b[38;5;28;01mraise\u001b[39;00m \u001b[38;5;167;01mKeyError\u001b[39;00m(\u001b[38;5;124mf\u001b[39m\u001b[38;5;124m\"\u001b[39m\u001b[38;5;132;01m{\u001b[39;00mnot_found\u001b[38;5;132;01m}\u001b[39;00m\u001b[38;5;124m not in index\u001b[39m\u001b[38;5;124m\"\u001b[39m)\n",
      "\u001b[0;31mKeyError\u001b[0m: \"None of [Index([1.4, 1.4, 1.3, 1.5, 1.4, 1.7, 1.4, 1.5, 1.4, 1.5,\\n       ...\\n       5.6, 5.1, 5.1, 5.9, 5.7, 5.2, 5.0, 5.2, 5.4, 5.1],\\n      dtype='float64', length=150)] are in the [columns]\""
     ]
    }
   ],
   "source": [
    "# Cleansing the data\n",
    "\n",
    "# Finding zero values\n",
    "zero_count = (pima_df == 0).sum()\n",
    "print(\"Number of Rows with Zero Values for Each Variable:\")\n",
    "print(zero_count)\n",
    "\n",
    "# Replace zero values in specific columns with the median\n",
    "columns_to_replace = [df.iloc[:, 2], df.iloc[:, 3], df.iloc[:, 4]]\n",
    "for column in columns_to_replace:\n",
    "    median_value = pima_df[column].median()\n",
    "    pima_df[column] = pima_df[column].replace(0, median_value)"
   ]
  },
  {
   "cell_type": "code",
   "execution_count": null,
   "id": "65304d62-7623-43f9-b7b3-59e8dae6fe85",
   "metadata": {},
   "outputs": [],
   "source": []
  }
 ],
 "metadata": {
  "kernelspec": {
   "display_name": "Python 3 (ipykernel)",
   "language": "python",
   "name": "python3"
  },
  "language_info": {
   "codemirror_mode": {
    "name": "ipython",
    "version": 3
   },
   "file_extension": ".py",
   "mimetype": "text/x-python",
   "name": "python",
   "nbconvert_exporter": "python",
   "pygments_lexer": "ipython3",
   "version": "3.12.1"
  }
 },
 "nbformat": 4,
 "nbformat_minor": 5
}
